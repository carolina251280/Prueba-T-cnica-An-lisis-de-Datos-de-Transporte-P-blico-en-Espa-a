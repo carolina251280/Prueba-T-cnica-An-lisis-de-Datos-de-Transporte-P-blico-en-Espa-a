{
 "cells": [
  {
   "cell_type": "code",
   "execution_count": 1,
   "id": "5e2dd5b7-0ac5-46b6-91fb-37fc681617f6",
   "metadata": {},
   "outputs": [],
   "source": [
    "import pyodbc\n",
    "import pandas as pd"
   ]
  },
  {
   "cell_type": "code",
   "execution_count": 2,
   "id": "50ec2da9-e3a9-4736-b3f3-e24dfda4b28a",
   "metadata": {},
   "outputs": [
    {
     "data": {
      "text/plain": [
       "['SQL Server',\n",
       " 'Microsoft Access Driver (*.mdb, *.accdb)',\n",
       " 'Microsoft Excel Driver (*.xls, *.xlsx, *.xlsm, *.xlsb)',\n",
       " 'Microsoft Access Text Driver (*.txt, *.csv)',\n",
       " 'SQL Server Native Client RDA 11.0',\n",
       " 'ODBC Driver 17 for SQL Server']"
      ]
     },
     "execution_count": 2,
     "metadata": {},
     "output_type": "execute_result"
    }
   ],
   "source": [
    "pyodbc.drivers()"
   ]
  },
  {
   "cell_type": "code",
   "execution_count": 3,
   "id": "e9e9e2dd-f4fc-463a-a079-2a069e666cdd",
   "metadata": {},
   "outputs": [],
   "source": [
    "conn = pyodbc.connect(\n",
    "    Trusted_Connection = \"Yes\",\n",
    "    Driver = '{ODBC Driver 17 for SQL Server}',\n",
    "    Server = 'DESKTOP-SNJIG4N',\n",
    "    Database = \"Transporte_Público_en_España\"\n",
    ")\n",
    "cursor = conn.cursor()"
   ]
  },
  {
   "cell_type": "code",
   "execution_count": 4,
   "id": "6613c19d-d495-475d-ab1a-1ebe20e8c699",
   "metadata": {},
   "outputs": [],
   "source": [
    "df = pd.read_csv('./data/Transporte_Publico_Espana.csv')"
   ]
  },
  {
   "cell_type": "code",
   "execution_count": 5,
   "id": "f823e7eb-1e3c-474c-bba9-f3177a717aa9",
   "metadata": {},
   "outputs": [
    {
     "data": {
      "text/plain": [
       "Index(['ID_Viaje', 'Fecha', 'Ruta', 'Numero_Pasajeros',\n",
       "       'Duracion_Viaje_Minutos', 'Retraso_Minutos', 'Tipo_Transporte',\n",
       "       'Region', 'Dia_Semana'],\n",
       "      dtype='object')"
      ]
     },
     "execution_count": 5,
     "metadata": {},
     "output_type": "execute_result"
    }
   ],
   "source": [
    "df.columns"
   ]
  },
  {
   "cell_type": "code",
   "execution_count": 6,
   "id": "20af6fb8-eb8b-45c8-913b-25d1fca1126f",
   "metadata": {},
   "outputs": [
    {
     "name": "stdout",
     "output_type": "stream",
     "text": [
      "<class 'pandas.core.frame.DataFrame'>\n",
      "RangeIndex: 100100 entries, 0 to 100099\n",
      "Data columns (total 9 columns):\n",
      " #   Column                  Non-Null Count   Dtype  \n",
      "---  ------                  --------------   -----  \n",
      " 0   ID_Viaje                100100 non-null  int64  \n",
      " 1   Fecha                   100100 non-null  object \n",
      " 2   Ruta                    100100 non-null  object \n",
      " 3   Numero_Pasajeros        99099 non-null   float64\n",
      " 4   Duracion_Viaje_Minutos  99767 non-null   object \n",
      " 5   Retraso_Minutos         100100 non-null  int64  \n",
      " 6   Tipo_Transporte         100100 non-null  object \n",
      " 7   Region                  100100 non-null  object \n",
      " 8   Dia_Semana              100100 non-null  object \n",
      "dtypes: float64(1), int64(2), object(6)\n",
      "memory usage: 6.9+ MB\n"
     ]
    }
   ],
   "source": [
    "df.info()"
   ]
  },
  {
   "cell_type": "code",
   "execution_count": 7,
   "id": "37e83dcd-0211-4136-a161-f33f370779f3",
   "metadata": {
    "scrolled": true
   },
   "outputs": [
    {
     "data": {
      "text/html": [
       "<div>\n",
       "<style scoped>\n",
       "    .dataframe tbody tr th:only-of-type {\n",
       "        vertical-align: middle;\n",
       "    }\n",
       "\n",
       "    .dataframe tbody tr th {\n",
       "        vertical-align: top;\n",
       "    }\n",
       "\n",
       "    .dataframe thead th {\n",
       "        text-align: right;\n",
       "    }\n",
       "</style>\n",
       "<table border=\"1\" class=\"dataframe\">\n",
       "  <thead>\n",
       "    <tr style=\"text-align: right;\">\n",
       "      <th></th>\n",
       "      <th>ID_Viaje</th>\n",
       "      <th>Fecha</th>\n",
       "      <th>Ruta</th>\n",
       "      <th>Numero_Pasajeros</th>\n",
       "      <th>Duracion_Viaje_Minutos</th>\n",
       "      <th>Retraso_Minutos</th>\n",
       "      <th>Tipo_Transporte</th>\n",
       "      <th>Region</th>\n",
       "      <th>Dia_Semana</th>\n",
       "    </tr>\n",
       "  </thead>\n",
       "  <tbody>\n",
       "    <tr>\n",
       "      <th>0</th>\n",
       "      <td>1</td>\n",
       "      <td>2023-01-01 00:00:00</td>\n",
       "      <td>Barcelona - Bilbao</td>\n",
       "      <td>NaN</td>\n",
       "      <td>not_available</td>\n",
       "      <td>999</td>\n",
       "      <td>Tranvía</td>\n",
       "      <td>Sevilla</td>\n",
       "      <td>Sunday</td>\n",
       "    </tr>\n",
       "    <tr>\n",
       "      <th>1</th>\n",
       "      <td>2</td>\n",
       "      <td>2023-01-01 00:01:00</td>\n",
       "      <td>Malaga - Sevilla</td>\n",
       "      <td>99.0</td>\n",
       "      <td>192.0</td>\n",
       "      <td>58</td>\n",
       "      <td>Tren</td>\n",
       "      <td>Barcelona</td>\n",
       "      <td>Sunday</td>\n",
       "    </tr>\n",
       "    <tr>\n",
       "      <th>2</th>\n",
       "      <td>3</td>\n",
       "      <td>2023-01-01 00:02:00</td>\n",
       "      <td>Madrid - Zaragoza</td>\n",
       "      <td>10.0</td>\n",
       "      <td>94.0</td>\n",
       "      <td>119</td>\n",
       "      <td>Autobús</td>\n",
       "      <td>Madrid</td>\n",
       "      <td>Sunday</td>\n",
       "    </tr>\n",
       "    <tr>\n",
       "      <th>3</th>\n",
       "      <td>4</td>\n",
       "      <td>2023-01-01 00:03:00</td>\n",
       "      <td>Sevilla - Madrid</td>\n",
       "      <td>96.0</td>\n",
       "      <td>650.0</td>\n",
       "      <td>2</td>\n",
       "      <td>Metro</td>\n",
       "      <td>Malaga</td>\n",
       "      <td>Sunday</td>\n",
       "    </tr>\n",
       "    <tr>\n",
       "      <th>4</th>\n",
       "      <td>5</td>\n",
       "      <td>2023-01-01 00:04:00</td>\n",
       "      <td>Madrid - Malaga</td>\n",
       "      <td>22.0</td>\n",
       "      <td>335.0</td>\n",
       "      <td>51</td>\n",
       "      <td>Autobús</td>\n",
       "      <td>Sevilla</td>\n",
       "      <td>Sunday</td>\n",
       "    </tr>\n",
       "  </tbody>\n",
       "</table>\n",
       "</div>"
      ],
      "text/plain": [
       "   ID_Viaje                Fecha                Ruta  Numero_Pasajeros  \\\n",
       "0         1  2023-01-01 00:00:00  Barcelona - Bilbao               NaN   \n",
       "1         2  2023-01-01 00:01:00    Malaga - Sevilla              99.0   \n",
       "2         3  2023-01-01 00:02:00   Madrid - Zaragoza              10.0   \n",
       "3         4  2023-01-01 00:03:00    Sevilla - Madrid              96.0   \n",
       "4         5  2023-01-01 00:04:00     Madrid - Malaga              22.0   \n",
       "\n",
       "  Duracion_Viaje_Minutos  Retraso_Minutos Tipo_Transporte     Region  \\\n",
       "0          not_available              999         Tranvía    Sevilla   \n",
       "1                  192.0               58            Tren  Barcelona   \n",
       "2                   94.0              119         Autobús     Madrid   \n",
       "3                  650.0                2           Metro     Malaga   \n",
       "4                  335.0               51         Autobús    Sevilla   \n",
       "\n",
       "  Dia_Semana  \n",
       "0     Sunday  \n",
       "1     Sunday  \n",
       "2     Sunday  \n",
       "3     Sunday  \n",
       "4     Sunday  "
      ]
     },
     "execution_count": 7,
     "metadata": {},
     "output_type": "execute_result"
    }
   ],
   "source": [
    "df.head()"
   ]
  },
  {
   "cell_type": "code",
   "execution_count": 8,
   "id": "9a49166f-8b28-4838-9924-ccac9158ec27",
   "metadata": {},
   "outputs": [
    {
     "name": "stdout",
     "output_type": "stream",
     "text": [
      "<class 'pandas.core.frame.DataFrame'>\n",
      "RangeIndex: 100100 entries, 0 to 100099\n",
      "Data columns (total 9 columns):\n",
      " #   Column                  Non-Null Count   Dtype  \n",
      "---  ------                  --------------   -----  \n",
      " 0   ID_Viaje                100100 non-null  int64  \n",
      " 1   Fecha                   100100 non-null  object \n",
      " 2   Ruta                    100100 non-null  object \n",
      " 3   Numero_Pasajeros        100100 non-null  float64\n",
      " 4   Duracion_Viaje_Minutos  100100 non-null  float64\n",
      " 5   Retraso_Minutos         100100 non-null  int64  \n",
      " 6   Tipo_Transporte         100100 non-null  object \n",
      " 7   Region                  100100 non-null  object \n",
      " 8   Dia_Semana              100100 non-null  object \n",
      "dtypes: float64(2), int64(2), object(5)\n",
      "memory usage: 6.9+ MB\n"
     ]
    }
   ],
   "source": [
    "#Conversión de tipos de datos\n",
    "df['Numero_Pasajeros'] = pd.to_numeric(df['Numero_Pasajeros'], errors='coerce')\n",
    "df['Duracion_Viaje_Minutos'] = pd.to_numeric(df['Duracion_Viaje_Minutos'], errors='coerce')\n",
    "\n",
    "# Imputación de valores faltantes en Numero_Pasajeros y Duracion_Viaje_Minutos\n",
    "df['Numero_Pasajeros'] = df['Numero_Pasajeros'].fillna(df['Numero_Pasajeros'].median())\n",
    "df['Duracion_Viaje_Minutos'] = df['Duracion_Viaje_Minutos'].fillna(df['Duracion_Viaje_Minutos'].median())\n",
    "\n",
    "df.info()"
   ]
  },
  {
   "cell_type": "code",
   "execution_count": 9,
   "id": "5e303c89-eac5-46f7-8ba1-fdcfa2f137fa",
   "metadata": {},
   "outputs": [
    {
     "data": {
      "text/plain": [
       "<pyodbc.Cursor at 0x233de026130>"
      ]
     },
     "execution_count": 9,
     "metadata": {},
     "output_type": "execute_result"
    }
   ],
   "source": [
    "cursor.execute(\"\"\"\n",
    "CREATE TABLE Transporte_Publico (\n",
    "    ID_Viaje int,\n",
    "    Fecha nvarchar(50),\n",
    "    Ruta nvarchar(50),\n",
    "    Numero_Pasajeros float,\n",
    "    Duracion_Viaje_Minutos float,\n",
    "    Retraso_Minutos int,\n",
    "    Tipo_Transporte nvarchar(50),\n",
    "    Region nvarchar(50),\n",
    "    Dia_Semana nvarchar(50)\n",
    ")\n",
    "\"\"\")\n"
   ]
  },
  {
   "cell_type": "code",
   "execution_count": 10,
   "id": "608e0c7e-7407-408b-a54e-1def798c1685",
   "metadata": {},
   "outputs": [],
   "source": [
    "for row in df.itertuples():\n",
    "    cursor.execute(\"\"\"\n",
    "                INSERT INTO Transporte_Público_en_España.dbo.Transporte_Publico(ID_Viaje, Fecha,Ruta, Numero_Pasajeros,\n",
    "                Duracion_Viaje_Minutos, Retraso_Minutos, Tipo_Transporte, Region, Dia_Semana)\n",
    "                VALUES(?,?,?,?,?,?,?,?,?)\n",
    "                \"\"\",\n",
    "                row.ID_Viaje, \n",
    "                row.Fecha,\n",
    "                row.Ruta,\n",
    "                row.Numero_Pasajeros,\n",
    "                row.Duracion_Viaje_Minutos,\n",
    "                row.Retraso_Minutos, \n",
    "                row.Tipo_Transporte,\n",
    "                row.Region,\n",
    "                row.Dia_Semana)\n",
    "conn.commit()"
   ]
  }
 ],
 "metadata": {
  "kernelspec": {
   "display_name": "Python 3 (ipykernel)",
   "language": "python",
   "name": "python3"
  },
  "language_info": {
   "codemirror_mode": {
    "name": "ipython",
    "version": 3
   },
   "file_extension": ".py",
   "mimetype": "text/x-python",
   "name": "python",
   "nbconvert_exporter": "python",
   "pygments_lexer": "ipython3",
   "version": "3.12.4"
  }
 },
 "nbformat": 4,
 "nbformat_minor": 5
}
